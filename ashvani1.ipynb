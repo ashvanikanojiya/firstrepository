{
 "cells": [
  {
   "cell_type": "markdown",
   "id": "fa64372f",
   "metadata": {},
   "source": [
    "# Starting Python"
   ]
  },
  {
   "cell_type": "markdown",
   "id": "2fbd7e70",
   "metadata": {},
   "source": [
    "Learning Python Basics"
   ]
  },
  {
   "cell_type": "markdown",
   "id": "2e2d032b",
   "metadata": {},
   "source": [
    "OPERATORS"
   ]
  },
  {
   "cell_type": "code",
   "execution_count": 1,
   "id": "c5ba16c5",
   "metadata": {},
   "outputs": [
    {
     "data": {
      "text/plain": [
       "2"
      ]
     },
     "execution_count": 1,
     "metadata": {},
     "output_type": "execute_result"
    }
   ],
   "source": [
    "1+1"
   ]
  },
  {
   "cell_type": "code",
   "execution_count": 2,
   "id": "85a6698f",
   "metadata": {},
   "outputs": [
    {
     "data": {
      "text/plain": [
       "1"
      ]
     },
     "execution_count": 2,
     "metadata": {},
     "output_type": "execute_result"
    }
   ],
   "source": [
    "2-1"
   ]
  },
  {
   "cell_type": "code",
   "execution_count": 3,
   "id": "6619475f",
   "metadata": {},
   "outputs": [
    {
     "data": {
      "text/plain": [
       "3"
      ]
     },
     "execution_count": 3,
     "metadata": {},
     "output_type": "execute_result"
    }
   ],
   "source": [
    "5-2\n"
   ]
  },
  {
   "cell_type": "code",
   "execution_count": 4,
   "id": "4341a31e",
   "metadata": {},
   "outputs": [
    {
     "data": {
      "text/plain": [
       "14"
      ]
     },
     "execution_count": 4,
     "metadata": {},
     "output_type": "execute_result"
    }
   ],
   "source": [
    "7*2"
   ]
  },
  {
   "cell_type": "code",
   "execution_count": 5,
   "id": "4deb5f93",
   "metadata": {},
   "outputs": [
    {
     "data": {
      "text/plain": [
       "5.0"
      ]
     },
     "execution_count": 5,
     "metadata": {},
     "output_type": "execute_result"
    }
   ],
   "source": [
    "10/2"
   ]
  },
  {
   "cell_type": "markdown",
   "id": "7aac5996",
   "metadata": {},
   "source": [
    "Floor Division"
   ]
  },
  {
   "cell_type": "code",
   "execution_count": 6,
   "id": "029dc19d",
   "metadata": {},
   "outputs": [
    {
     "data": {
      "text/plain": [
       "5"
      ]
     },
     "execution_count": 6,
     "metadata": {},
     "output_type": "execute_result"
    }
   ],
   "source": [
    "10//2"
   ]
  },
  {
   "cell_type": "markdown",
   "id": "9846cfde",
   "metadata": {},
   "source": [
    "Modulus Operator"
   ]
  },
  {
   "cell_type": "code",
   "execution_count": 7,
   "id": "67f844fe",
   "metadata": {},
   "outputs": [
    {
     "data": {
      "text/plain": [
       "0"
      ]
     },
     "execution_count": 7,
     "metadata": {},
     "output_type": "execute_result"
    }
   ],
   "source": [
    "10%2"
   ]
  },
  {
   "cell_type": "code",
   "execution_count": 8,
   "id": "bf2c7b65",
   "metadata": {},
   "outputs": [
    {
     "data": {
      "text/plain": [
       "1"
      ]
     },
     "execution_count": 8,
     "metadata": {},
     "output_type": "execute_result"
    }
   ],
   "source": [
    "13%2"
   ]
  },
  {
   "cell_type": "code",
   "execution_count": 9,
   "id": "02f41849",
   "metadata": {},
   "outputs": [
    {
     "data": {
      "text/plain": [
       "2"
      ]
     },
     "execution_count": 9,
     "metadata": {},
     "output_type": "execute_result"
    }
   ],
   "source": [
    "14%3"
   ]
  },
  {
   "cell_type": "markdown",
   "id": "70cddcdd",
   "metadata": {},
   "source": [
    "Find a Square"
   ]
  },
  {
   "cell_type": "code",
   "execution_count": 10,
   "id": "9444e093",
   "metadata": {},
   "outputs": [
    {
     "data": {
      "text/plain": [
       "4"
      ]
     },
     "execution_count": 10,
     "metadata": {},
     "output_type": "execute_result"
    }
   ],
   "source": [
    "2**2"
   ]
  },
  {
   "cell_type": "code",
   "execution_count": 11,
   "id": "aa6a2deb",
   "metadata": {},
   "outputs": [
    {
     "data": {
      "text/plain": [
       "16"
      ]
     },
     "execution_count": 11,
     "metadata": {},
     "output_type": "execute_result"
    }
   ],
   "source": [
    "4**2"
   ]
  },
  {
   "cell_type": "code",
   "execution_count": 12,
   "id": "8be2870d",
   "metadata": {},
   "outputs": [
    {
     "data": {
      "text/plain": [
       "9"
      ]
     },
     "execution_count": 12,
     "metadata": {},
     "output_type": "execute_result"
    }
   ],
   "source": [
    "3**2"
   ]
  },
  {
   "cell_type": "code",
   "execution_count": 13,
   "id": "e95395f1",
   "metadata": {},
   "outputs": [
    {
     "data": {
      "text/plain": [
       "25"
      ]
     },
     "execution_count": 13,
     "metadata": {},
     "output_type": "execute_result"
    }
   ],
   "source": [
    "5**2"
   ]
  },
  {
   "cell_type": "code",
   "execution_count": 14,
   "id": "ad8ab007",
   "metadata": {},
   "outputs": [
    {
     "data": {
      "text/plain": [
       "25"
      ]
     },
     "execution_count": 14,
     "metadata": {},
     "output_type": "execute_result"
    }
   ],
   "source": [
    "5**2"
   ]
  },
  {
   "cell_type": "code",
   "execution_count": 15,
   "id": "91db727e",
   "metadata": {},
   "outputs": [
    {
     "data": {
      "text/plain": [
       "125"
      ]
     },
     "execution_count": 15,
     "metadata": {},
     "output_type": "execute_result"
    }
   ],
   "source": [
    "5**3"
   ]
  },
  {
   "cell_type": "code",
   "execution_count": 16,
   "id": "9dfd278f",
   "metadata": {},
   "outputs": [
    {
     "data": {
      "text/plain": [
       "216"
      ]
     },
     "execution_count": 16,
     "metadata": {},
     "output_type": "execute_result"
    }
   ],
   "source": [
    "6**3"
   ]
  },
  {
   "cell_type": "code",
   "execution_count": 17,
   "id": "7cfc520c",
   "metadata": {},
   "outputs": [
    {
     "data": {
      "text/plain": [
       "343"
      ]
     },
     "execution_count": 17,
     "metadata": {},
     "output_type": "execute_result"
    }
   ],
   "source": [
    "7**3"
   ]
  },
  {
   "cell_type": "markdown",
   "id": "42848946",
   "metadata": {},
   "source": [
    "Working With Variable"
   ]
  },
  {
   "cell_type": "code",
   "execution_count": 18,
   "id": "e9068f5f",
   "metadata": {},
   "outputs": [],
   "source": [
    "a=10"
   ]
  },
  {
   "cell_type": "code",
   "execution_count": 19,
   "id": "567a1fb6",
   "metadata": {},
   "outputs": [
    {
     "data": {
      "text/plain": [
       "10"
      ]
     },
     "execution_count": 19,
     "metadata": {},
     "output_type": "execute_result"
    }
   ],
   "source": [
    "a"
   ]
  },
  {
   "cell_type": "code",
   "execution_count": 20,
   "id": "7f4229d5",
   "metadata": {},
   "outputs": [],
   "source": [
    "b=5"
   ]
  },
  {
   "cell_type": "code",
   "execution_count": 21,
   "id": "99bbe7e2",
   "metadata": {},
   "outputs": [
    {
     "data": {
      "text/plain": [
       "5"
      ]
     },
     "execution_count": 21,
     "metadata": {},
     "output_type": "execute_result"
    }
   ],
   "source": [
    "b"
   ]
  },
  {
   "cell_type": "code",
   "execution_count": 22,
   "id": "dc9db293",
   "metadata": {},
   "outputs": [
    {
     "data": {
      "text/plain": [
       "15"
      ]
     },
     "execution_count": 22,
     "metadata": {},
     "output_type": "execute_result"
    }
   ],
   "source": [
    "a+b"
   ]
  },
  {
   "cell_type": "code",
   "execution_count": 23,
   "id": "9a468d22",
   "metadata": {},
   "outputs": [
    {
     "data": {
      "text/plain": [
       "5"
      ]
     },
     "execution_count": 23,
     "metadata": {},
     "output_type": "execute_result"
    }
   ],
   "source": [
    "a-b"
   ]
  },
  {
   "cell_type": "code",
   "execution_count": 24,
   "id": "53cee6e7",
   "metadata": {},
   "outputs": [
    {
     "data": {
      "text/plain": [
       "50"
      ]
     },
     "execution_count": 24,
     "metadata": {},
     "output_type": "execute_result"
    }
   ],
   "source": [
    "a*b"
   ]
  },
  {
   "cell_type": "code",
   "execution_count": 25,
   "id": "25f7f5f7",
   "metadata": {},
   "outputs": [
    {
     "data": {
      "text/plain": [
       "2.0"
      ]
     },
     "execution_count": 25,
     "metadata": {},
     "output_type": "execute_result"
    }
   ],
   "source": [
    "a/b"
   ]
  },
  {
   "cell_type": "code",
   "execution_count": 26,
   "id": "6d2e0f47",
   "metadata": {},
   "outputs": [],
   "source": [
    "c=a+b"
   ]
  },
  {
   "cell_type": "code",
   "execution_count": 27,
   "id": "6a82eef1",
   "metadata": {},
   "outputs": [
    {
     "data": {
      "text/plain": [
       "15"
      ]
     },
     "execution_count": 27,
     "metadata": {},
     "output_type": "execute_result"
    }
   ],
   "source": [
    "c"
   ]
  },
  {
   "cell_type": "code",
   "execution_count": 35,
   "id": "fdf90a75",
   "metadata": {},
   "outputs": [
    {
     "name": "stdout",
     "output_type": "stream",
     "text": [
      "15\n"
     ]
    }
   ],
   "source": [
    "print(c)"
   ]
  },
  {
   "cell_type": "code",
   "execution_count": 36,
   "id": "619cb975",
   "metadata": {},
   "outputs": [
    {
     "name": "stdout",
     "output_type": "stream",
     "text": [
      "c=\n"
     ]
    }
   ],
   "source": [
    "print(\"c=\")"
   ]
  },
  {
   "cell_type": "code",
   "execution_count": 37,
   "id": "8d552f04",
   "metadata": {},
   "outputs": [
    {
     "name": "stdout",
     "output_type": "stream",
     "text": [
      "c= 15\n"
     ]
    }
   ],
   "source": [
    "print(\"c=\",c)"
   ]
  },
  {
   "cell_type": "code",
   "execution_count": 31,
   "id": "9be172fb",
   "metadata": {},
   "outputs": [],
   "source": [
    "d=a-b"
   ]
  },
  {
   "cell_type": "code",
   "execution_count": 32,
   "id": "75a0ee3f",
   "metadata": {},
   "outputs": [
    {
     "data": {
      "text/plain": [
       "5"
      ]
     },
     "execution_count": 32,
     "metadata": {},
     "output_type": "execute_result"
    }
   ],
   "source": [
    "d"
   ]
  },
  {
   "cell_type": "code",
   "execution_count": 38,
   "id": "1d8d7a26",
   "metadata": {},
   "outputs": [
    {
     "name": "stdout",
     "output_type": "stream",
     "text": [
      "5\n"
     ]
    }
   ],
   "source": [
    "print(d)"
   ]
  },
  {
   "cell_type": "code",
   "execution_count": 39,
   "id": "d21ec156",
   "metadata": {},
   "outputs": [
    {
     "name": "stdout",
     "output_type": "stream",
     "text": [
      "d=\n"
     ]
    }
   ],
   "source": [
    "print(\"d=\")"
   ]
  },
  {
   "cell_type": "code",
   "execution_count": 40,
   "id": "47493ff8",
   "metadata": {},
   "outputs": [
    {
     "name": "stdout",
     "output_type": "stream",
     "text": [
      "d= 5\n"
     ]
    }
   ],
   "source": [
    "print(\"d=\",d)"
   ]
  },
  {
   "cell_type": "code",
   "execution_count": 33,
   "id": "ac744d72",
   "metadata": {},
   "outputs": [],
   "source": [
    "e=a*b"
   ]
  },
  {
   "cell_type": "code",
   "execution_count": 34,
   "id": "acf26896",
   "metadata": {},
   "outputs": [
    {
     "data": {
      "text/plain": [
       "50"
      ]
     },
     "execution_count": 34,
     "metadata": {},
     "output_type": "execute_result"
    }
   ],
   "source": [
    "e"
   ]
  },
  {
   "cell_type": "code",
   "execution_count": 41,
   "id": "b711d0ca",
   "metadata": {},
   "outputs": [
    {
     "name": "stdout",
     "output_type": "stream",
     "text": [
      "50\n"
     ]
    }
   ],
   "source": [
    "print(e)"
   ]
  },
  {
   "cell_type": "code",
   "execution_count": 47,
   "id": "7e2d73ec",
   "metadata": {},
   "outputs": [
    {
     "name": "stdout",
     "output_type": "stream",
     "text": [
      "e=\n"
     ]
    }
   ],
   "source": [
    "print(\"e=\")"
   ]
  },
  {
   "cell_type": "code",
   "execution_count": 51,
   "id": "92c22248",
   "metadata": {},
   "outputs": [
    {
     "name": "stdout",
     "output_type": "stream",
     "text": [
      "e= 50\n"
     ]
    }
   ],
   "source": [
    "print(\"e=\",e)"
   ]
  },
  {
   "cell_type": "code",
   "execution_count": 52,
   "id": "3f194bdf",
   "metadata": {},
   "outputs": [
    {
     "name": "stdout",
     "output_type": "stream",
     "text": [
      "The value of e= 50\n"
     ]
    }
   ],
   "source": [
    "print(\"The value of e=\",e)"
   ]
  },
  {
   "cell_type": "code",
   "execution_count": 53,
   "id": "fce51829",
   "metadata": {},
   "outputs": [
    {
     "name": "stdout",
     "output_type": "stream",
     "text": [
      "5\n"
     ]
    }
   ],
   "source": [
    "print(a-b)"
   ]
  },
  {
   "cell_type": "code",
   "execution_count": 54,
   "id": "cb5129dc",
   "metadata": {},
   "outputs": [
    {
     "name": "stdout",
     "output_type": "stream",
     "text": [
      "e= 5\n"
     ]
    }
   ],
   "source": [
    "print(\"e=\",a-b)"
   ]
  },
  {
   "cell_type": "code",
   "execution_count": 55,
   "id": "c2e6aba2",
   "metadata": {},
   "outputs": [
    {
     "data": {
      "text/plain": [
       "3"
      ]
     },
     "execution_count": 55,
     "metadata": {},
     "output_type": "execute_result"
    }
   ],
   "source": [
    "len(\"abc\")"
   ]
  },
  {
   "cell_type": "code",
   "execution_count": 56,
   "id": "f8945d5c",
   "metadata": {},
   "outputs": [
    {
     "data": {
      "text/plain": [
       "4"
      ]
     },
     "execution_count": 56,
     "metadata": {},
     "output_type": "execute_result"
    }
   ],
   "source": [
    "len(\"abcd\")"
   ]
  },
  {
   "cell_type": "code",
   "execution_count": 57,
   "id": "8fc212f1",
   "metadata": {},
   "outputs": [
    {
     "data": {
      "text/plain": [
       "3"
      ]
     },
     "execution_count": 57,
     "metadata": {},
     "output_type": "execute_result"
    }
   ],
   "source": [
    "len(\"xyz\")"
   ]
  },
  {
   "cell_type": "code",
   "execution_count": 58,
   "id": "afc74e8d",
   "metadata": {},
   "outputs": [
    {
     "data": {
      "text/plain": [
       "4"
      ]
     },
     "execution_count": 58,
     "metadata": {},
     "output_type": "execute_result"
    }
   ],
   "source": [
    "len(\"pune\")"
   ]
  },
  {
   "cell_type": "code",
   "execution_count": 59,
   "id": "57b024ab",
   "metadata": {},
   "outputs": [
    {
     "data": {
      "text/plain": [
       "5"
      ]
     },
     "execution_count": 59,
     "metadata": {},
     "output_type": "execute_result"
    }
   ],
   "source": [
    "len(\"noida\")"
   ]
  },
  {
   "cell_type": "code",
   "execution_count": 61,
   "id": "3813aaed",
   "metadata": {},
   "outputs": [],
   "source": [
    "city=\"NEWYORK\""
   ]
  },
  {
   "cell_type": "code",
   "execution_count": 62,
   "id": "d0f5ebd0",
   "metadata": {},
   "outputs": [
    {
     "data": {
      "text/plain": [
       "'NEWYORK'"
      ]
     },
     "execution_count": 62,
     "metadata": {},
     "output_type": "execute_result"
    }
   ],
   "source": [
    "city"
   ]
  },
  {
   "cell_type": "code",
   "execution_count": 63,
   "id": "89d7b1df",
   "metadata": {},
   "outputs": [
    {
     "data": {
      "text/plain": [
       "4"
      ]
     },
     "execution_count": 63,
     "metadata": {},
     "output_type": "execute_result"
    }
   ],
   "source": [
    "len(\"city\")"
   ]
  },
  {
   "cell_type": "code",
   "execution_count": 64,
   "id": "43561acb",
   "metadata": {},
   "outputs": [
    {
     "data": {
      "text/plain": [
       "7"
      ]
     },
     "execution_count": 64,
     "metadata": {},
     "output_type": "execute_result"
    }
   ],
   "source": [
    "len(\"NEWYORK\")"
   ]
  },
  {
   "cell_type": "code",
   "execution_count": 66,
   "id": "b755c346",
   "metadata": {},
   "outputs": [
    {
     "data": {
      "text/plain": [
       "7"
      ]
     },
     "execution_count": 66,
     "metadata": {},
     "output_type": "execute_result"
    }
   ],
   "source": [
    "len(city)"
   ]
  },
  {
   "cell_type": "code",
   "execution_count": 67,
   "id": "2210a3a1",
   "metadata": {},
   "outputs": [],
   "source": [
    "Name=\"Andrew\""
   ]
  },
  {
   "cell_type": "code",
   "execution_count": 68,
   "id": "09bdb8b1",
   "metadata": {},
   "outputs": [
    {
     "data": {
      "text/plain": [
       "'Andrew'"
      ]
     },
     "execution_count": 68,
     "metadata": {},
     "output_type": "execute_result"
    }
   ],
   "source": [
    "Name"
   ]
  },
  {
   "cell_type": "code",
   "execution_count": 69,
   "id": "f66c10b2",
   "metadata": {},
   "outputs": [],
   "source": [
    "Place=\"London\""
   ]
  },
  {
   "cell_type": "code",
   "execution_count": 70,
   "id": "c0a9e4e4",
   "metadata": {},
   "outputs": [
    {
     "data": {
      "text/plain": [
       "'London'"
      ]
     },
     "execution_count": 70,
     "metadata": {},
     "output_type": "execute_result"
    }
   ],
   "source": [
    "Place"
   ]
  },
  {
   "cell_type": "code",
   "execution_count": 71,
   "id": "92a4f6b7",
   "metadata": {},
   "outputs": [],
   "source": [
    "city=\"Delhi\""
   ]
  },
  {
   "cell_type": "code",
   "execution_count": 72,
   "id": "42975d76",
   "metadata": {},
   "outputs": [
    {
     "data": {
      "text/plain": [
       "5"
      ]
     },
     "execution_count": 72,
     "metadata": {},
     "output_type": "execute_result"
    }
   ],
   "source": [
    "len('city1')"
   ]
  },
  {
   "cell_type": "code",
   "execution_count": 76,
   "id": "bf5ad948",
   "metadata": {},
   "outputs": [],
   "source": [
    "City2=\"Pune\""
   ]
  },
  {
   "cell_type": "code",
   "execution_count": 78,
   "id": "3f1dbbc9",
   "metadata": {},
   "outputs": [
    {
     "data": {
      "text/plain": [
       "5"
      ]
     },
     "execution_count": 78,
     "metadata": {},
     "output_type": "execute_result"
    }
   ],
   "source": [
    "len('City2')"
   ]
  },
  {
   "cell_type": "markdown",
   "id": "ff6a3c9e",
   "metadata": {},
   "source": [
    "# String Concatenation"
   ]
  },
  {
   "cell_type": "code",
   "execution_count": 2,
   "id": "762e34ff",
   "metadata": {},
   "outputs": [
    {
     "data": {
      "text/plain": [
       "'44'"
      ]
     },
     "execution_count": 2,
     "metadata": {},
     "output_type": "execute_result"
    }
   ],
   "source": [
    "'4'+'4'"
   ]
  },
  {
   "cell_type": "code",
   "execution_count": 3,
   "id": "2960ce31",
   "metadata": {},
   "outputs": [
    {
     "data": {
      "text/plain": [
       "'abcd'"
      ]
     },
     "execution_count": 3,
     "metadata": {},
     "output_type": "execute_result"
    }
   ],
   "source": [
    "'ab'+'cd'\n"
   ]
  },
  {
   "cell_type": "code",
   "execution_count": 4,
   "id": "db3c7a35",
   "metadata": {},
   "outputs": [
    {
     "data": {
      "text/plain": [
       "'HappyBirthday'"
      ]
     },
     "execution_count": 4,
     "metadata": {},
     "output_type": "execute_result"
    }
   ],
   "source": [
    "'Happy'+'Birthday'"
   ]
  },
  {
   "cell_type": "code",
   "execution_count": 5,
   "id": "fceff02c",
   "metadata": {},
   "outputs": [
    {
     "data": {
      "text/plain": [
       "'Happy Birthday'"
      ]
     },
     "execution_count": 5,
     "metadata": {},
     "output_type": "execute_result"
    }
   ],
   "source": [
    "'Happy'+' Birthday'\n"
   ]
  },
  {
   "cell_type": "code",
   "execution_count": 6,
   "id": "45d88578",
   "metadata": {},
   "outputs": [
    {
     "data": {
      "text/plain": [
       "'Josh Martin'"
      ]
     },
     "execution_count": 6,
     "metadata": {},
     "output_type": "execute_result"
    }
   ],
   "source": [
    "'Josh'+' Martin'"
   ]
  },
  {
   "cell_type": "code",
   "execution_count": 7,
   "id": "2254203b",
   "metadata": {},
   "outputs": [
    {
     "data": {
      "text/plain": [
       "'Spacex'"
      ]
     },
     "execution_count": 7,
     "metadata": {},
     "output_type": "execute_result"
    }
   ],
   "source": [
    "'Space'+'x'"
   ]
  },
  {
   "cell_type": "code",
   "execution_count": 8,
   "id": "8a59135b",
   "metadata": {},
   "outputs": [
    {
     "data": {
      "text/plain": [
       "'Twitter is acquired by tesla ceo elon musk'"
      ]
     },
     "execution_count": 8,
     "metadata": {},
     "output_type": "execute_result"
    }
   ],
   "source": [
    "'Twitter'+' is'+' acquired'+' by'+' tesla'+' ceo'+' elon'+' musk'"
   ]
  },
  {
   "cell_type": "code",
   "execution_count": 9,
   "id": "8a694943",
   "metadata": {},
   "outputs": [
    {
     "data": {
      "text/plain": [
       "'Data Science'"
      ]
     },
     "execution_count": 9,
     "metadata": {},
     "output_type": "execute_result"
    }
   ],
   "source": [
    "'Data'+' Science'"
   ]
  },
  {
   "cell_type": "code",
   "execution_count": 10,
   "id": "5bbb4df4",
   "metadata": {},
   "outputs": [
    {
     "data": {
      "text/plain": [
       "'Machine Learning'"
      ]
     },
     "execution_count": 10,
     "metadata": {},
     "output_type": "execute_result"
    }
   ],
   "source": [
    "'Machine'+' Learning'"
   ]
  },
  {
   "cell_type": "markdown",
   "id": "f75cfe4a",
   "metadata": {},
   "source": [
    "Area of rectangle"
   ]
  },
  {
   "cell_type": "code",
   "execution_count": 12,
   "id": "0daf2821",
   "metadata": {},
   "outputs": [
    {
     "name": "stdout",
     "output_type": "stream",
     "text": [
      "300\n",
      "area of rectangle= 300\n",
      "area of rectangle with Length 50  and breadth= 6  is 300\n"
     ]
    }
   ],
   "source": [
    "Length=50\n",
    "breadth=6\n",
    "area=Length*breadth\n",
    "print(area)\n",
    "print('area of rectangle=',area)\n",
    "print('area of rectangle with Length',Length,' and breadth=',breadth,' is',area)"
   ]
  },
  {
   "cell_type": "markdown",
   "id": "f4c9a7b6",
   "metadata": {},
   "source": [
    "area of circle"
   ]
  },
  {
   "cell_type": "code",
   "execution_count": 15,
   "id": "9084c859",
   "metadata": {},
   "outputs": [],
   "source": [
    "pi=3.14\n",
    "\n",
    "\n",
    "radius=8\n",
    "\n",
    "\n",
    "area=pi*(radius**2)\n"
   ]
  },
  {
   "cell_type": "code",
   "execution_count": 16,
   "id": "511077d9",
   "metadata": {},
   "outputs": [
    {
     "data": {
      "text/plain": [
       "200.96"
      ]
     },
     "execution_count": 16,
     "metadata": {},
     "output_type": "execute_result"
    }
   ],
   "source": [
    "area"
   ]
  },
  {
   "cell_type": "code",
   "execution_count": 17,
   "id": "046a8a0b",
   "metadata": {},
   "outputs": [
    {
     "name": "stdout",
     "output_type": "stream",
     "text": [
      "The area of circle is= 200.96\n"
     ]
    }
   ],
   "source": [
    "print(\"The area of circle is=\",area)"
   ]
  },
  {
   "cell_type": "markdown",
   "id": "efeb9f73",
   "metadata": {},
   "source": [
    "Typecasting"
   ]
  },
  {
   "cell_type": "code",
   "execution_count": 18,
   "id": "af080d58",
   "metadata": {},
   "outputs": [],
   "source": [
    "a=60"
   ]
  },
  {
   "cell_type": "code",
   "execution_count": 19,
   "id": "e05042c3",
   "metadata": {},
   "outputs": [
    {
     "data": {
      "text/plain": [
       "int"
      ]
     },
     "execution_count": 19,
     "metadata": {},
     "output_type": "execute_result"
    }
   ],
   "source": [
    "type(a)"
   ]
  },
  {
   "cell_type": "code",
   "execution_count": 20,
   "id": "f4d77a22",
   "metadata": {},
   "outputs": [],
   "source": [
    "b=(89)"
   ]
  },
  {
   "cell_type": "code",
   "execution_count": 21,
   "id": "0b2c0272",
   "metadata": {},
   "outputs": [
    {
     "data": {
      "text/plain": [
       "int"
      ]
     },
     "execution_count": 21,
     "metadata": {},
     "output_type": "execute_result"
    }
   ],
   "source": [
    "type(b)"
   ]
  },
  {
   "cell_type": "code",
   "execution_count": 22,
   "id": "64896be5",
   "metadata": {},
   "outputs": [],
   "source": [
    "Fees=999.50"
   ]
  },
  {
   "cell_type": "code",
   "execution_count": 23,
   "id": "e60d3c1f",
   "metadata": {},
   "outputs": [
    {
     "data": {
      "text/plain": [
       "float"
      ]
     },
     "execution_count": 23,
     "metadata": {},
     "output_type": "execute_result"
    }
   ],
   "source": [
    "type(Fees)"
   ]
  },
  {
   "cell_type": "code",
   "execution_count": 24,
   "id": "2ab7316a",
   "metadata": {},
   "outputs": [],
   "source": [
    "j=True"
   ]
  },
  {
   "cell_type": "code",
   "execution_count": 25,
   "id": "90117b28",
   "metadata": {},
   "outputs": [
    {
     "data": {
      "text/plain": [
       "bool"
      ]
     },
     "execution_count": 25,
     "metadata": {},
     "output_type": "execute_result"
    }
   ],
   "source": [
    "type(j)"
   ]
  },
  {
   "cell_type": "code",
   "execution_count": 26,
   "id": "ddc08241",
   "metadata": {},
   "outputs": [],
   "source": [
    "Country=\"india\""
   ]
  },
  {
   "cell_type": "code",
   "execution_count": 27,
   "id": "00884bc4",
   "metadata": {},
   "outputs": [
    {
     "data": {
      "text/plain": [
       "str"
      ]
     },
     "execution_count": 27,
     "metadata": {},
     "output_type": "execute_result"
    }
   ],
   "source": [
    "type(Country)"
   ]
  },
  {
   "cell_type": "code",
   "execution_count": 28,
   "id": "d03d4961",
   "metadata": {},
   "outputs": [],
   "source": [
    "P=False"
   ]
  },
  {
   "cell_type": "code",
   "execution_count": 29,
   "id": "7d4dfddc",
   "metadata": {},
   "outputs": [
    {
     "data": {
      "text/plain": [
       "bool"
      ]
     },
     "execution_count": 29,
     "metadata": {},
     "output_type": "execute_result"
    }
   ],
   "source": [
    "type(False)"
   ]
  },
  {
   "cell_type": "code",
   "execution_count": 30,
   "id": "3cc5c004",
   "metadata": {},
   "outputs": [
    {
     "data": {
      "text/plain": [
       "True"
      ]
     },
     "execution_count": 30,
     "metadata": {},
     "output_type": "execute_result"
    }
   ],
   "source": [
    "10>7"
   ]
  },
  {
   "cell_type": "code",
   "execution_count": 31,
   "id": "d611004c",
   "metadata": {},
   "outputs": [
    {
     "data": {
      "text/plain": [
       "True"
      ]
     },
     "execution_count": 31,
     "metadata": {},
     "output_type": "execute_result"
    }
   ],
   "source": [
    "90>56"
   ]
  },
  {
   "cell_type": "code",
   "execution_count": 32,
   "id": "5fb5c653",
   "metadata": {},
   "outputs": [
    {
     "data": {
      "text/plain": [
       "True"
      ]
     },
     "execution_count": 32,
     "metadata": {},
     "output_type": "execute_result"
    }
   ],
   "source": [
    "80<100"
   ]
  },
  {
   "cell_type": "code",
   "execution_count": 33,
   "id": "7626ac4f",
   "metadata": {},
   "outputs": [
    {
     "data": {
      "text/plain": [
       "False"
      ]
     },
     "execution_count": 33,
     "metadata": {},
     "output_type": "execute_result"
    }
   ],
   "source": [
    "15>37"
   ]
  },
  {
   "cell_type": "code",
   "execution_count": 34,
   "id": "9d51dbfb",
   "metadata": {},
   "outputs": [
    {
     "data": {
      "text/plain": [
       "True"
      ]
     },
     "execution_count": 34,
     "metadata": {},
     "output_type": "execute_result"
    }
   ],
   "source": [
    "670==670"
   ]
  },
  {
   "cell_type": "code",
   "execution_count": 35,
   "id": "ea36393d",
   "metadata": {},
   "outputs": [
    {
     "data": {
      "text/plain": [
       "False"
      ]
     },
     "execution_count": 35,
     "metadata": {},
     "output_type": "execute_result"
    }
   ],
   "source": [
    "100==500"
   ]
  },
  {
   "cell_type": "code",
   "execution_count": 36,
   "id": "31120e0f",
   "metadata": {},
   "outputs": [
    {
     "data": {
      "text/plain": [
       "False"
      ]
     },
     "execution_count": 36,
     "metadata": {},
     "output_type": "execute_result"
    }
   ],
   "source": [
    "100!=100"
   ]
  },
  {
   "cell_type": "code",
   "execution_count": 37,
   "id": "453081fa",
   "metadata": {},
   "outputs": [
    {
     "data": {
      "text/plain": [
       "True"
      ]
     },
     "execution_count": 37,
     "metadata": {},
     "output_type": "execute_result"
    }
   ],
   "source": [
    "100!=500"
   ]
  },
  {
   "cell_type": "code",
   "execution_count": 38,
   "id": "f5d34027",
   "metadata": {},
   "outputs": [
    {
     "data": {
      "text/plain": [
       "True"
      ]
     },
     "execution_count": 38,
     "metadata": {},
     "output_type": "execute_result"
    }
   ],
   "source": [
    "600!=900"
   ]
  }
 ],
 "metadata": {
  "kernelspec": {
   "display_name": "Python 3 (ipykernel)",
   "language": "python",
   "name": "python3"
  },
  "language_info": {
   "codemirror_mode": {
    "name": "ipython",
    "version": 3
   },
   "file_extension": ".py",
   "mimetype": "text/x-python",
   "name": "python",
   "nbconvert_exporter": "python",
   "pygments_lexer": "ipython3",
   "version": "3.9.7"
  }
 },
 "nbformat": 4,
 "nbformat_minor": 5
}
